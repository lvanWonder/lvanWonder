{
 "cells": [
  {
   "cell_type": "code",
   "execution_count": 24,
   "id": "ed5b8dca",
   "metadata": {
    "scrolled": true
   },
   "outputs": [
    {
     "name": "stdout",
     "output_type": "stream",
     "text": [
      "каукуап\n"
     ]
    },
    {
     "ename": "ValueError",
     "evalue": "invalid literal for int() with base 10: 'каукуап'",
     "output_type": "error",
     "traceback": [
      "\u001b[1;31m---------------------------------------------------------------------------\u001b[0m",
      "\u001b[1;31mValueError\u001b[0m                                Traceback (most recent call last)",
      "Input \u001b[1;32mIn [24]\u001b[0m, in \u001b[0;36m<cell line: 1>\u001b[1;34m()\u001b[0m\n\u001b[1;32m----> 1\u001b[0m n\u001b[38;5;241m=\u001b[39m \u001b[38;5;28;43mint\u001b[39;49m\u001b[43m(\u001b[49m\u001b[38;5;28;43minput\u001b[39;49m\u001b[43m(\u001b[49m\u001b[43m)\u001b[49m\u001b[43m)\u001b[49m\n\u001b[0;32m      2\u001b[0m raw \u001b[38;5;241m=\u001b[39m[\u001b[38;5;241m0\u001b[39m]\n\u001b[0;32m      3\u001b[0m matrix \u001b[38;5;241m=\u001b[39m [\u001b[38;5;241m-\u001b[39m\u001b[38;5;241m1\u001b[39m,\u001b[38;5;241m-\u001b[39m\u001b[38;5;241m1\u001b[39m]\n",
      "\u001b[1;31mValueError\u001b[0m: invalid literal for int() with base 10: 'каукуап'"
     ]
    }
   ],
   "source": [
    " n= int(input())\n",
    "raw =[0]\n",
    "matrix = [-1,-1]\n",
    "raw.extend([int(x) for x in input().split()[:n]])\n",
    "for k in range(n+1):\n",
    "    if k%2 != raw[k] % 2:\n",
    "        d = raw[k]\n",
    "        matrix.append(k)\n",
    "if len(matrix)>4 or len(matrix) == 2:\n",
    "    print(*matrix[:2])\n",
    "else:\n",
    "    print(matrix[2], matrix[3], end  = ' ')\n"
   ]
  },
  {
   "cell_type": "code",
   "execution_count": 56,
   "id": "83c77681",
   "metadata": {},
   "outputs": [
    {
     "name": "stdout",
     "output_type": "stream",
     "text": [
      "100 20\n",
      "535983370403809682970\n"
     ]
    }
   ],
   "source": [
    "from functools import lru_cache\n",
    "@lru_cache()\n",
    "\n",
    "\n",
    "def conect(n,k):\n",
    "    if k == 0:\n",
    "        return 1\n",
    "    if k > n:\n",
    "        return 0\n",
    "    return (conect(n-1,k)+(conect(n-1, k-1)))\n",
    "n, k = map(int, input().split())\n",
    "print(conect(n,k))"
   ]
  },
  {
   "cell_type": "code",
   "execution_count": 21,
   "id": "852ee96e",
   "metadata": {},
   "outputs": [],
   "source": [
    "## "
   ]
  },
  {
   "cell_type": "code",
   "execution_count": null,
   "id": "42a5d447",
   "metadata": {},
   "outputs": [],
   "source": [
    "###### col, raw = \"abcdefgh\", '87654321'\n",
    "matrix = [['.']*8 for _ in range(8)]\n",
    "q = input()\n",
    "flag = 0\n",
    "for i in range(8):\n",
    "    if flag == 1:\n",
    "        break\n",
    "    else:\n",
    "        matrix[i-1] = [\".\"]*8\n",
    "    for j in range(8):\n",
    "        matrix[i][j]=(col[j]+raw[i])\n",
    "        if q == matrix[i][j]:\n",
    "            matrix[i] =[\"*\"]*8\n",
    "            for l in range(8):\n",
    "                matrix[l][j] = \"*\"\n",
    "            for l in range(8):\n",
    "                for k in range(8):\n",
    "                    if i+1, j+1 < 9 and i-1>\n",
    "                        try:\n",
    "                        matrix[i-l][j-l] = \"*\"\n",
    "                        matrix[i+l][j+l] = \"*\"\n",
    "                        matrix[i+l][j-l] = \"*\"\n",
    "                        matrix[i-l][j+l] = \"*\"\n",
    "                    except:\n",
    "                        break\n",
    "            matrix[i][j] = \"Q\"\n",
    "            flag = 1\n",
    "            break\n",
    "        \n",
    "for i in range(8):\n",
    "    print(*matrix[i])\n",
    "   \n"
   ]
  },
  {
   "cell_type": "markdown",
   "id": "c3622def",
   "metadata": {},
   "source": [
    "###        matrix[i][j] = \"Q\"\n"
   ]
  },
  {
   "cell_type": "markdown",
   "id": "d67ea585",
   "metadata": {},
   "source": [
    "##### print(raw)\n"
   ]
  },
  {
   "cell_type": "code",
   "execution_count": 17,
   "id": "466f27aa",
   "metadata": {},
   "outputs": [
    {
     "name": "stdout",
     "output_type": "stream",
     "text": [
      "3\n",
      "1 2 1\n",
      "3 3 3\n",
      "1 2 1\n",
      "2\n",
      "8 10 8\n",
      "15 21 15\n",
      "8 10 8\n"
     ]
    }
   ],
   "source": [
    "n = int(input())\n",
    "matrix = [[0]*n for _ in range (n)]\n",
    "for i in range (n):\n",
    "    matrix[i] = map(int,input().split())\n",
    "    (matrix[i]) = list(matrix[i])\n",
    "m = int(input())\n",
    "\n",
    "def multi(matrix_a):\n",
    "    matr = [[0]*n for _ in range (n)]\n",
    "    for l in range(n):\n",
    "        for r in range(n):\n",
    "            for j in range(n):\n",
    "                matr[l][r] += (matrix_a[l][j] * matrix[j][r])\n",
    "    return matr       \n",
    "\n",
    "matrix_b = multi(matrix)\n",
    "for i in range(m-2):\n",
    "        matrix_b = multi(matrix_b)\n",
    "\n",
    "for i in range(n):\n",
    "    print(*matrix_b[i])\n",
    "    "
   ]
  },
  {
   "cell_type": "code",
   "execution_count": 26,
   "id": "2ad5ca1f",
   "metadata": {},
   "outputs": [
    {
     "name": "stdout",
     "output_type": "stream",
     "text": [
      "3\n"
     ]
    },
    {
     "ename": "NameError",
     "evalue": "name 'x' is not defined",
     "output_type": "error",
     "traceback": [
      "\u001b[1;31m---------------------------------------------------------------------------\u001b[0m",
      "\u001b[1;31mNameError\u001b[0m                                 Traceback (most recent call last)",
      "Input \u001b[1;32mIn [26]\u001b[0m, in \u001b[0;36m<cell line: 19>\u001b[1;34m()\u001b[0m\n\u001b[0;32m     16\u001b[0m         \u001b[38;5;28;01melse\u001b[39;00m:\n\u001b[0;32m     17\u001b[0m             matrix[i][j] \u001b[38;5;241m=\u001b[39m \u001b[38;5;124m'\u001b[39m\u001b[38;5;124m.\u001b[39m\u001b[38;5;124m'\u001b[39m  \u001b[38;5;66;03m# запоняем остальное точками, теперь нам буквы больше не нужны - есть координаты\u001b[39;00m\n\u001b[1;32m---> 19\u001b[0m \u001b[38;5;28;01mif\u001b[39;00m \u001b[43mx\u001b[49m \u001b[38;5;129;01min\u001b[39;00m \u001b[38;5;28mrange\u001b[39m (\u001b[38;5;241m0\u001b[39m,\u001b[38;5;241m7\u001b[39m) \u001b[38;5;129;01mand\u001b[39;00m y \u001b[38;5;129;01min\u001b[39;00m \u001b[38;5;28mrange\u001b[39m(\u001b[38;5;241m0\u001b[39m,\u001b[38;5;241m6\u001b[39m):  \u001b[38;5;66;03m#все восемь возможных ходов коня прописаны. Увы, каждый проверяю отдельно.\u001b[39;00m\n\u001b[0;32m     20\u001b[0m     matrix[x\u001b[38;5;241m+\u001b[39m\u001b[38;5;241m1\u001b[39m][y\u001b[38;5;241m+\u001b[39m\u001b[38;5;241m2\u001b[39m] \u001b[38;5;241m=\u001b[39m \u001b[38;5;124m\"\u001b[39m\u001b[38;5;124m*\u001b[39m\u001b[38;5;124m\"\u001b[39m\n\u001b[0;32m     21\u001b[0m \u001b[38;5;28;01mif\u001b[39;00m x \u001b[38;5;129;01min\u001b[39;00m \u001b[38;5;28mrange\u001b[39m (\u001b[38;5;241m0\u001b[39m,\u001b[38;5;241m7\u001b[39m) \u001b[38;5;129;01mand\u001b[39;00m y \u001b[38;5;129;01min\u001b[39;00m \u001b[38;5;28mrange\u001b[39m(\u001b[38;5;241m2\u001b[39m,\u001b[38;5;241m8\u001b[39m):\n",
      "\u001b[1;31mNameError\u001b[0m: name 'x' is not defined"
     ]
    }
   ],
   "source": [
    "\n",
    "n, matrix = input(), []                    #создаём матрицу, называя каждый элемент как клетку доски по типу \"e4\"\n",
    "abc = 'abcdefgh'\n",
    "for i in range(8,0,-1):\n",
    "    matrix_temp = []\n",
    "    for j in range(0,8):\n",
    "        temp = str(abc[j])\n",
    "        i = str(i)\n",
    "        temp+=str(i)\n",
    "        matrix_temp.append(temp)\n",
    "    matrix.append(matrix_temp)\n",
    "for i in range(8):                # находим точку N\n",
    "    for j in range(8):\n",
    "        if n == matrix[i][j]:\n",
    "            matrix[i][j]=\"N\"\n",
    "            x, y = i, j         # координаты точки N\n",
    "        else:\n",
    "            matrix[i][j] = '.'  # запоняем остальное точками, теперь нам буквы больше не нужны - есть координаты\n",
    "\n",
    "if x in range (0,7) and y in range(0,6):  #все восемь возможных ходов коня прописаны. Увы, каждый проверяю отдельно.\n",
    "    matrix[x+1][y+2] = \"*\"\n",
    "if x in range (0,7) and y in range(2,8):\n",
    "    matrix[x+1][y-2] = \"*\"\n",
    "if x in range (1,8) and y in range(2,8):\n",
    "    matrix[x-1][y-2] = \"*\"\n",
    "if x in range (1,8) and y in range(0,6):\n",
    "    matrix[x-1][y+2] = \"*\"\n",
    "if x in range (0,6) and y in range(0,7):\n",
    "    matrix[x+2][y+1] = \"*\"\n",
    "if x in range (2,8) and y in range(0,7):      \n",
    "    matrix[x-2][y+1] = \"*\"\n",
    "if x in range (2,8) and y in range(1,8):\n",
    "    matrix[x-2][y-1]  = \"*\"\n",
    "if x in range (0,6) and y in range(1,8):\n",
    "    matrix[x+2][y-1] = \"*\"\n",
    "if x in range (0,6) and y in range(0,7):\n",
    "    matrix[x+2][y+1] = \"*\"\n",
    "for _ in range(8):\n",
    "            print (*matrix[_])"
   ]
  },
  {
   "cell_type": "code",
   "execution_count": 36,
   "id": "00c045a6",
   "metadata": {
    "scrolled": true
   },
   "outputs": [
    {
     "name": "stdout",
     "output_type": "stream",
     "text": [
      "\n"
     ]
    }
   ],
   "source": [
    "def expand(*args, sep= \" \"):\n",
    "    txt=''\n",
    "    text=\"\"\n",
    "    count=0\n",
    "    for a in args:\n",
    "        txt+=(a)\n",
    "        count+=1\n",
    "        print(txt,count)\n",
    "    text=txt\n",
    "    for i in range(count-1):\n",
    "        txt+=(sep+text)\n",
    "    \n",
    "    return(txt)\n",
    "print(expand(),sep='fdgdf')"
   ]
  },
  {
   "cell_type": "code",
   "execution_count": 11,
   "id": "83aae9a2",
   "metadata": {},
   "outputs": [
    {
     "name": "stdout",
     "output_type": "stream",
     "text": [
      "2\n"
     ]
    },
    {
     "ename": "AttributeError",
     "evalue": "'list' object has no attribute 'expand'",
     "output_type": "error",
     "traceback": [
      "\u001b[1;31m---------------------------------------------------------------------------\u001b[0m",
      "\u001b[1;31mAttributeError\u001b[0m                            Traceback (most recent call last)",
      "Input \u001b[1;32mIn [11]\u001b[0m, in \u001b[0;36m<cell line: 3>\u001b[1;34m()\u001b[0m\n\u001b[0;32m      2\u001b[0m txt\u001b[38;5;241m=\u001b[39m[]\n\u001b[0;32m      3\u001b[0m \u001b[38;5;28;01mfor\u001b[39;00m u \u001b[38;5;129;01min\u001b[39;00m \u001b[38;5;28mrange\u001b[39m(n):\n\u001b[1;32m----> 4\u001b[0m     \u001b[43mtxt\u001b[49m\u001b[38;5;241;43m.\u001b[39;49m\u001b[43mexpand\u001b[49m(\u001b[38;5;28minput\u001b[39m())\u001b[38;5;241m.\u001b[39msep(\u001b[38;5;124m'\u001b[39m\u001b[38;5;124m \u001b[39m\u001b[38;5;124m'\u001b[39m)\n\u001b[0;32m      5\u001b[0m \u001b[38;5;28mprint\u001b[39m(txt)\n",
      "\u001b[1;31mAttributeError\u001b[0m: 'list' object has no attribute 'expand'"
     ]
    }
   ],
   "source": [
    "n= int(input())\n",
    "txt=[]\n",
    "for u in range(n):\n",
    "    txt.expand(input()).sep(' ')\n",
    "print(txt)"
   ]
  },
  {
   "cell_type": "code",
   "execution_count": null,
   "id": "595cd040",
   "metadata": {},
   "outputs": [],
   "source": []
  },
  {
   "cell_type": "code",
   "execution_count": null,
   "id": "c5ec517a",
   "metadata": {},
   "outputs": [],
   "source": []
  },
  {
   "cell_type": "markdown",
   "id": "a0f7db84",
   "metadata": {},
   "source": [
    "#### s = input().split()\n",
    "n = int(input())\n",
    "\n",
    "def chunked(s, n):\n",
    "  new = []\n",
    "  for i in range(0, len(s), n):\n",
    "    new.append(s[i:i+n])\n",
    "  return new\n",
    "  \n",
    "print(chunked(s, n))\n",
    "hy"
   ]
  },
  {
   "cell_type": "code",
   "execution_count": null,
   "id": "cbe8173c",
   "metadata": {},
   "outputs": [],
   "source": []
  }
 ],
 "metadata": {
  "kernelspec": {
   "display_name": "Python 3 (ipykernel)",
   "language": "python",
   "name": "python3"
  },
  "language_info": {
   "codemirror_mode": {
    "name": "ipython",
    "version": 3
   },
   "file_extension": ".py",
   "mimetype": "text/x-python",
   "name": "python",
   "nbconvert_exporter": "python",
   "pygments_lexer": "ipython3",
   "version": "3.9.12"
  }
 },
 "nbformat": 4,
 "nbformat_minor": 5
}
